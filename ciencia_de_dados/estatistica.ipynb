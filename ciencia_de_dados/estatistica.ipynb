{
 "cells": [
  {
   "cell_type": "markdown",
   "id": "33ea13af-5ffc-4d95-bfe6-805e2cc6e56a",
   "metadata": {},
   "source": [
    "# Atividades\n",
    "1. Crie um array com os números de 1 a 10.\n",
    "\n",
    "- Calcule a soma de todos os elementos.\n",
    "\n",
    "- Calcule a média."
   ]
  },
  {
   "cell_type": "code",
   "execution_count": 2,
   "id": "45f1cdf2-2b93-4443-87fd-bf8613b40ca9",
   "metadata": {},
   "outputs": [],
   "source": [
    "import numpy as np"
   ]
  },
  {
   "cell_type": "code",
   "execution_count": 3,
   "id": "ffd9a377-7ffb-4b7f-8ff2-dc80c1dcc443",
   "metadata": {},
   "outputs": [
    {
     "data": {
      "text/plain": [
       "array([ 1,  2,  3,  4,  5,  6,  7,  8,  9, 10])"
      ]
     },
     "execution_count": 3,
     "metadata": {},
     "output_type": "execute_result"
    }
   ],
   "source": [
    "arr = np.arange(1, 11)\n",
    "arr"
   ]
  },
  {
   "cell_type": "code",
   "execution_count": 4,
   "id": "aed86496-b486-43ee-afda-b7e74e880e30",
   "metadata": {},
   "outputs": [
    {
     "name": "stdout",
     "output_type": "stream",
     "text": [
      "Soma de todos os elementos: 55\n",
      "Média do array: 5.5\n"
     ]
    }
   ],
   "source": [
    "arr_soma = np.sum(arr)\n",
    "arr_media = np.mean(arr)\n",
    "print(f\"Soma de todos os elementos: {arr_soma}\")\n",
    "print(f\"Média do array: {arr_media}\")"
   ]
  },
  {
   "cell_type": "markdown",
   "id": "06cd194e-8f03-46f2-b1d3-0cbc8c52d591",
   "metadata": {},
   "source": [
    "2. Gere um array de 20 números aleatórios inteiros entre 1 e 100.\n",
    "\n",
    "- Descubra o valor máximo e mínimo.\n",
    "\n",
    "- Descubra os índices do máximo e do mínimo."
   ]
  },
  {
   "cell_type": "code",
   "execution_count": 8,
   "id": "80bc322b-4825-4664-b94b-55e88c260743",
   "metadata": {},
   "outputs": [
    {
     "data": {
      "text/plain": [
       "array([89, 36, 88,  5, 67, 69, 95,  7, 58, 56, 66, 77, 45, 16, 41, 77, 52,\n",
       "        4, 79, 78])"
      ]
     },
     "execution_count": 8,
     "metadata": {},
     "output_type": "execute_result"
    }
   ],
   "source": [
    "rng = np.random.default_rng()\n",
    "arr = rng.integers(low=1, high=100, size=20, endpoint=True)\n",
    "arr"
   ]
  },
  {
   "cell_type": "code",
   "execution_count": 9,
   "id": "b072e909-6f84-4198-8959-a4417952c0d6",
   "metadata": {},
   "outputs": [
    {
     "name": "stdout",
     "output_type": "stream",
     "text": [
      "valor minimo no array: 4\n",
      "valor maximo no array: 95\n"
     ]
    }
   ],
   "source": [
    "arr_minimo = np.min(arr)\n",
    "arr_maximo = np.max(arr)\n",
    "print(f'valor minimo no array: {arr_minimo}')\n",
    "print(f'valor maximo no array: {arr_maximo}')"
   ]
  },
  {
   "cell_type": "code",
   "execution_count": 10,
   "id": "3c6c5edf-e19d-4bf2-8d1a-e0c89ec43365",
   "metadata": {},
   "outputs": [
    {
     "name": "stdout",
     "output_type": "stream",
     "text": [
      "indice do valor maximo: 6\n",
      "indice do valor minimo: 17\n"
     ]
    }
   ],
   "source": [
    "arr_imax = np.argmax(arr)\n",
    "arr_imin = np.argmin(arr)\n",
    "print(f'indice do valor maximo: {arr_imax}')\n",
    "print(f'indice do valor minimo: {arr_imin}')"
   ]
  },
  {
   "cell_type": "markdown",
   "id": "1162ae30-c08c-4547-912c-6239e937db5f",
   "metadata": {},
   "source": [
    "3. Considere o array:\n",
    "\n",
    "> arr = np.array([5, 7, 8, 7, 10, 7, 3])\n",
    "\n",
    "\n",
    "- Qual o índice do maior valor?\n",
    "\n",
    "- Qual o índice do menor valor?\n",
    "\n",
    "- Se houver repetição de valores (como os vários 7), qual índice argmax() e argmin() retornam?"
   ]
  },
  {
   "cell_type": "code",
   "execution_count": 20,
   "id": "ab427e20-3784-4719-b8f1-7b39dad28997",
   "metadata": {},
   "outputs": [
    {
     "data": {
      "text/plain": [
       "array([ 5,  7,  8,  7, 10,  7,  3])"
      ]
     },
     "execution_count": 20,
     "metadata": {},
     "output_type": "execute_result"
    }
   ],
   "source": [
    "arr = np.array([5, 7, 8, 7, 10, 7, 3])\n",
    "arr"
   ]
  },
  {
   "cell_type": "code",
   "execution_count": 22,
   "id": "f3fd70af-c1bc-4a38-aff1-09f322224f3f",
   "metadata": {},
   "outputs": [
    {
     "name": "stdout",
     "output_type": "stream",
     "text": [
      "indice de maior valor: 4\n",
      "indice de menor valor: 6\n",
      "caso fossem numeros repetidos no argmax ou argmin, ele retornaria o indice que primeiro aparece o num repetido\n"
     ]
    }
   ],
   "source": [
    "arr_imax = np.argmax(arr)\n",
    "arr_imin = np.argmin(arr)\n",
    "print(f'indice de maior valor: {arr_imax}')\n",
    "print(f'indice de menor valor: {arr_imin}')\n",
    "print(f'caso fossem numeros repetidos no argmax ou argmin, ele retornaria o indice que primeiro aparece o num repetido')"
   ]
  },
  {
   "cell_type": "code",
   "execution_count": 24,
   "id": "b8b7f9ba-1da0-45ff-bc4f-8611dbba699a",
   "metadata": {},
   "outputs": [
    {
     "data": {
      "text/plain": [
       "array([[ 1,  2,  3,  4],\n",
       "       [ 5,  6,  7,  8],\n",
       "       [ 9, 10, 11, 12]])"
      ]
     },
     "execution_count": 24,
     "metadata": {},
     "output_type": "execute_result"
    }
   ],
   "source": [
    "arr = np.arange(1, 13).reshape(3, 4)\n",
    "arr"
   ]
  },
  {
   "cell_type": "code",
   "execution_count": 25,
   "id": "3bcc1125-70d9-4d7e-ab3b-7fa6574731ca",
   "metadata": {},
   "outputs": [
    {
     "data": {
      "text/plain": [
       "array([ 2.5,  6.5, 10.5])"
      ]
     },
     "execution_count": 25,
     "metadata": {},
     "output_type": "execute_result"
    }
   ],
   "source": [
    "arr_media_linhas = np.mean(arr, axis=1)\n",
    "arr_media_linhas"
   ]
  },
  {
   "cell_type": "code",
   "execution_count": 26,
   "id": "0e181c21-0b02-435d-87ac-2a9080c2a0b9",
   "metadata": {},
   "outputs": [
    {
     "data": {
      "text/plain": [
       "array([5., 6., 7., 8.])"
      ]
     },
     "execution_count": 26,
     "metadata": {},
     "output_type": "execute_result"
    }
   ],
   "source": [
    "arr_media_col = np.mean(arr, axis=0)\n",
    "arr_media_col"
   ]
  },
  {
   "cell_type": "code",
   "execution_count": 27,
   "id": "049a10bb-88b8-4bec-8ee6-bf87a353ee13",
   "metadata": {},
   "outputs": [
    {
     "data": {
      "text/plain": [
       "array([[10,  6, 16, 18, 26],\n",
       "       [20, 25, 11, 26, 38],\n",
       "       [ 5, 35, 35, 49, 22],\n",
       "       [41,  5, 39, 25, 29],\n",
       "       [42, 13,  4, 34, 44]])"
      ]
     },
     "execution_count": 27,
     "metadata": {},
     "output_type": "execute_result"
    }
   ],
   "source": [
    "arr = rng.integers(low=0, high=50, size=(5, 5), endpoint=True)\n",
    "arr"
   ]
  },
  {
   "cell_type": "code",
   "execution_count": 30,
   "id": "771dc9ee-9c1c-485d-8f6e-9a0277517d07",
   "metadata": {},
   "outputs": [
    {
     "name": "stdout",
     "output_type": "stream",
     "text": [
      "desvio padrão do array: 13.379147954933451\n"
     ]
    }
   ],
   "source": [
    "arr_desviop = np.std(arr)\n",
    "print(f'desvio padrão do array: {arr_desviop}')"
   ]
  },
  {
   "cell_type": "code",
   "execution_count": 33,
   "id": "091ba5be-31d4-4286-8e26-4d0c7b4988a6",
   "metadata": {},
   "outputs": [
    {
     "name": "stdout",
     "output_type": "stream",
     "text": [
      "valor maximodo array: 49.\n",
      "Seu índice: 13\n",
      "Posição real: (3, 4)\n"
     ]
    }
   ],
   "source": [
    "arr_valor_max = np.max(arr)\n",
    "arr_indice_max = np.argmax(arr)\n",
    "print(f\"valor maximodo array: {arr_valor_max}.\\nSeu índice: {arr_indice_max}\")\n",
    "print(\"Posição real: (3, 4)\")"
   ]
  },
  {
   "cell_type": "code",
   "execution_count": 37,
   "id": "1ef6fed8-dcad-4499-9b01-2c2331105ac4",
   "metadata": {},
   "outputs": [
    {
     "data": {
      "text/plain": [
       "array([0.01897946, 0.37839226, 0.25926291, 0.68137244, 0.99887494,\n",
       "       0.56501425, 0.47835837, 0.62772428, 0.13719208, 0.26321788,\n",
       "       0.17523914, 0.13157764, 0.29261069, 0.19754811, 0.03268041,\n",
       "       0.92039772, 0.91021594, 0.30533007, 0.2408917 , 0.92949153,\n",
       "       0.10401715, 0.0675216 , 0.46666997, 0.10196101, 0.08951844,\n",
       "       0.79361113, 0.92297929, 0.85745031, 0.22424713, 0.10533613,\n",
       "       0.01712698, 0.22199171, 0.10233635, 0.77496247, 0.94387934,\n",
       "       0.1790782 , 0.64871155, 0.32311197, 0.43314262, 0.51992338,\n",
       "       0.73737797, 0.67960101, 0.62247893, 0.83238506, 0.32717309,\n",
       "       0.70111922, 0.93296825, 0.96835719, 0.38837959, 0.25295879,\n",
       "       0.45497147, 0.23028054, 0.7713401 , 0.20607023, 0.84419718,\n",
       "       0.94162074, 0.82844492, 0.34423941, 0.19579543, 0.94624619,\n",
       "       0.9398509 , 0.70320655, 0.95858246, 0.87365145, 0.54023029,\n",
       "       0.62838532, 0.3229562 , 0.49159191, 0.89347392, 0.28418017,\n",
       "       0.60643057, 0.89129257, 0.46362969, 0.56713395, 0.73592556,\n",
       "       0.5490887 , 0.94960617, 0.26558181, 0.96362321, 0.89373053,\n",
       "       0.03415668, 0.78092176, 0.09134116, 0.61374659, 0.33576891,\n",
       "       0.28311734, 0.23573697, 0.86861621, 0.22021799, 0.47539139,\n",
       "       0.10573932, 0.65090473, 0.2350843 , 0.27163335, 0.10312228,\n",
       "       0.26317875, 0.31382076, 0.80111682, 0.8001802 , 0.17112774])"
      ]
     },
     "execution_count": 37,
     "metadata": {},
     "output_type": "execute_result"
    }
   ],
   "source": [
    "arr = rng.random(100)\n",
    "arr"
   ]
  },
  {
   "cell_type": "code",
   "execution_count": 39,
   "id": "dfb0f6aa-470e-4b28-8a51-fed44125e44f",
   "metadata": {},
   "outputs": [
    {
     "data": {
      "text/plain": [
       "np.float64(0.498250290438692)"
      ]
     },
     "execution_count": 39,
     "metadata": {},
     "output_type": "execute_result"
    }
   ],
   "source": [
    "arr_media = np.mean(arr)\n",
    "arr_media"
   ]
  },
  {
   "cell_type": "code",
   "execution_count": 45,
   "id": "695fd664-0906-4aca-a6f5-edebabdd7207",
   "metadata": {},
   "outputs": [
    {
     "data": {
      "text/plain": [
       "47"
      ]
     },
     "execution_count": 45,
     "metadata": {},
     "output_type": "execute_result"
    }
   ],
   "source": [
    "bool_acima_media = arr > arr_media\n",
    "num_acima_media = np.count_nonzero(bool_acima_media)\n",
    "num_acima_media"
   ]
  },
  {
   "cell_type": "code",
   "execution_count": null,
   "id": "3dadbee3-183d-4392-98d6-3e264cd7bc7d",
   "metadata": {},
   "outputs": [],
   "source": []
  }
 ],
 "metadata": {
  "kernelspec": {
   "display_name": "Python [conda env:base] *",
   "language": "python",
   "name": "conda-base-py"
  },
  "language_info": {
   "codemirror_mode": {
    "name": "ipython",
    "version": 3
   },
   "file_extension": ".py",
   "mimetype": "text/x-python",
   "name": "python",
   "nbconvert_exporter": "python",
   "pygments_lexer": "ipython3",
   "version": "3.13.5"
  }
 },
 "nbformat": 4,
 "nbformat_minor": 5
}
