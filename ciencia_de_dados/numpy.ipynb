{
 "cells": [
  {
   "cell_type": "code",
   "execution_count": 2,
   "id": "dbb0cc65-dcbf-4f8a-ab43-bad773129f4d",
   "metadata": {},
   "outputs": [
    {
     "data": {
      "text/plain": [
       "array([1, 2, 3])"
      ]
     },
     "execution_count": 2,
     "metadata": {},
     "output_type": "execute_result"
    }
   ],
   "source": [
    "import numpy as np\n",
    "\n",
    "data = np.array([1,2,3])\n",
    "data"
   ]
  },
  {
   "cell_type": "code",
   "execution_count": 3,
   "id": "d216c44c-6021-4760-8b08-c96dba2e9693",
   "metadata": {},
   "outputs": [
    {
     "data": {
      "text/plain": [
       "array([[ 2,  4,  6],\n",
       "       [ 8, 10, 12]])"
      ]
     },
     "execution_count": 3,
     "metadata": {},
     "output_type": "execute_result"
    }
   ],
   "source": [
    "# é tranquilo com numpy fazer operações de arrays\n",
    "dt = np.array([[1,2,3], [4,5,6]])\n",
    "dt + dt"
   ]
  },
  {
   "cell_type": "code",
   "execution_count": 4,
   "id": "8424598a-38b8-4011-9593-6e21fa13c374",
   "metadata": {},
   "outputs": [
    {
     "data": {
      "text/plain": [
       "array([[10, 20, 30],\n",
       "       [40, 50, 60]])"
      ]
     },
     "execution_count": 4,
     "metadata": {},
     "output_type": "execute_result"
    }
   ],
   "source": [
    "dt * 10"
   ]
  },
  {
   "cell_type": "code",
   "execution_count": 5,
   "id": "83ae18b9-6a46-4b9e-a733-851c1dd1d31d",
   "metadata": {},
   "outputs": [
    {
     "name": "stdout",
     "output_type": "stream",
     "text": [
      "(2, 3) int64\n"
     ]
    }
   ],
   "source": [
    "# os ndarrays são homegeneos, ou seja, só aceitam um tipo de dado\n",
    "print(dt.shape, dt.dtype)"
   ]
  },
  {
   "cell_type": "code",
   "execution_count": 6,
   "id": "ed2c8c36-20e0-41a2-ab40-a90c801fee8d",
   "metadata": {},
   "outputs": [
    {
     "data": {
      "text/plain": [
       "array([1, 2, 3, 4])"
      ]
     },
     "execution_count": 6,
     "metadata": {},
     "output_type": "execute_result"
    }
   ],
   "source": [
    "# criando array:\n",
    "data1 = [1, 2, 3, 4]\n",
    "arr1 = np.array(data1)\n",
    "arr1"
   ]
  },
  {
   "cell_type": "code",
   "execution_count": 7,
   "id": "c0a7fbdf-b15a-447b-82e4-fbfa13cc162f",
   "metadata": {},
   "outputs": [
    {
     "data": {
      "text/plain": [
       "array([[ 5,  6,  7,  8],\n",
       "       [ 9, 10, 11, 12]])"
      ]
     },
     "execution_count": 7,
     "metadata": {},
     "output_type": "execute_result"
    }
   ],
   "source": [
    "# criando array multidimensional\n",
    "# sempre como se fosse listas aninhadas\n",
    "data2 = [[5,6,7,8], [9,10,11,12]]\n",
    "arr2 = np.array(data2)\n",
    "arr2"
   ]
  },
  {
   "cell_type": "code",
   "execution_count": 8,
   "id": "6d5de916-0f5e-4d9e-a037-c619f16ed197",
   "metadata": {},
   "outputs": [
    {
     "data": {
      "text/plain": [
       "2"
      ]
     },
     "execution_count": 8,
     "metadata": {},
     "output_type": "execute_result"
    }
   ],
   "source": [
    "# mostrando quantas dimensões tem o array2\n",
    "arr2.ndim"
   ]
  },
  {
   "cell_type": "code",
   "execution_count": 9,
   "id": "0107c4ce-ab32-4da4-ae5f-12b252a5f4d0",
   "metadata": {},
   "outputs": [
    {
     "data": {
      "text/plain": [
       "(2, 4)"
      ]
     },
     "execution_count": 9,
     "metadata": {},
     "output_type": "execute_result"
    }
   ],
   "source": [
    "# mostrando o seu formato\n",
    "arr2.shape"
   ]
  },
  {
   "cell_type": "code",
   "execution_count": 10,
   "id": "72fbe48a-6d6a-47a5-aaad-96f665613845",
   "metadata": {},
   "outputs": [
    {
     "name": "stdout",
     "output_type": "stream",
     "text": [
      "[0. 0. 0. 0. 0. 0. 0. 0. 0. 0.]\n",
      "[[1. 1. 1. 1. 1.]\n",
      " [1. 1. 1. 1. 1.]\n",
      " [1. 1. 1. 1. 1.]\n",
      " [1. 1. 1. 1. 1.]]\n",
      "[[[4.67296746e-307 1.69121096e-306 9.45755701e-308 7.56587585e-307]\n",
      "  [1.37961302e-306 1.05699242e-307 8.01097889e-307 1.78020169e-306]\n",
      "  [7.56601165e-307 1.02359984e-306 1.42417221e-306 7.56593017e-307]]\n",
      "\n",
      " [[1.24610587e-306 6.23059726e-307 1.11261027e-306 1.95818994e-306]\n",
      "  [1.37962456e-306 9.34613864e-307 1.42418172e-306 8.06610918e-308]\n",
      "  [6.89810244e-307 1.22387550e-307 2.22522596e-306 2.12199579e-312]]]\n"
     ]
    }
   ],
   "source": [
    "# funções interessantes como ones, zeros e empty\n",
    "zero = np.zeros(10) #cria uma array de 10 elementos (0)\n",
    "print(zero)\n",
    "\n",
    "um = np.ones((4,5)) #criando uma matriz 4x5 de 1s. quando queremos passar um formato específico, escrevemos em uma tupla (linha,coluna)\n",
    "print(um)\n",
    "\n",
    "emp = np.empty((2,3,4)) #criando uma matriz de 3 dimensões vazia\n",
    "print(emp)"
   ]
  },
  {
   "cell_type": "code",
   "execution_count": 12,
   "id": "947fee88-0e1b-4f8b-803f-71493a57066e",
   "metadata": {},
   "outputs": [
    {
     "name": "stdout",
     "output_type": "stream",
     "text": [
      "[1 2 3]\n"
     ]
    }
   ],
   "source": [
    "lista = [1, 2, 3]\n",
    "arrr = np.asarray(lista) #converte alguma entrada em array\n",
    "print(arrr)"
   ]
  },
  {
   "cell_type": "code",
   "execution_count": 31,
   "id": "c3628e69-69c9-4164-b9d1-0cde63876303",
   "metadata": {},
   "outputs": [
    {
     "data": {
      "text/plain": [
       "array([ 0,  1,  2,  3,  4,  5,  6,  7,  8,  9, 10, 11, 12])"
      ]
     },
     "execution_count": 31,
     "metadata": {},
     "output_type": "execute_result"
    }
   ],
   "source": [
    "# array com sequencia\n",
    "arr = np.arange(13)\n",
    "arr"
   ]
  },
  {
   "cell_type": "code",
   "execution_count": 36,
   "id": "433e9156-dde4-4c9e-a4c1-3fc3318e41ab",
   "metadata": {},
   "outputs": [
    {
     "name": "stdout",
     "output_type": "stream",
     "text": [
      "[[1. 0. 0. 0. 0.]\n",
      " [0. 1. 0. 0. 0.]\n",
      " [0. 0. 1. 0. 0.]\n",
      " [0. 0. 0. 1. 0.]\n",
      " [0. 0. 0. 0. 1.]]\n",
      "[[1. 0. 0. 0. 0.]\n",
      " [0. 1. 0. 0. 0.]\n",
      " [0. 0. 1. 0. 0.]\n",
      " [0. 0. 0. 1. 0.]\n",
      " [0. 0. 0. 0. 1.]]\n"
     ]
    }
   ],
   "source": [
    "#criar uma matriz identidade com 1 na diagonal e o resto é 0\n",
    "print(np.eye(5))\n",
    "print(np.identity(5))"
   ]
  },
  {
   "cell_type": "code",
   "execution_count": 39,
   "id": "dd5cc10a-979a-457d-89be-0bd5a9755f12",
   "metadata": {},
   "outputs": [
    {
     "name": "stdout",
     "output_type": "stream",
     "text": [
      "[1 2 3 4 5]\n",
      "int64\n",
      "[1. 2. 3. 4. 5.]\n",
      "float64\n"
     ]
    }
   ],
   "source": [
    "# pode converter o tipo de dado de um ndarray\n",
    "dt = np.array([1, 2, 3, 4, 5])\n",
    "print(dt)\n",
    "print(dt.dtype)\n",
    "\n",
    "float_dt = dt.astype(np.float64)\n",
    "print(float_dt)\n",
    "print(float_dt.dtype)"
   ]
  },
  {
   "cell_type": "markdown",
   "id": "4a7353b8-b91d-43a1-a0d2-8a172974b7bc",
   "metadata": {},
   "source": [
    "### Expressões aritméticas\n",
    "O numpy permite fazer operações matemáticas de matrizes e vetores sem o uso de do 'for'"
   ]
  },
  {
   "cell_type": "code",
   "execution_count": 15,
   "id": "843b81eb-ac55-491f-a2f5-87c02b032d78",
   "metadata": {},
   "outputs": [
    {
     "name": "stdout",
     "output_type": "stream",
     "text": [
      "[[ 1.  4.  9.]\n",
      " [16. 25. 36.]]\n",
      "[[ 2.  4.  6.]\n",
      " [ 8. 10. 12.]]\n",
      "[[0. 0. 0.]\n",
      " [0. 0. 0.]]\n"
     ]
    }
   ],
   "source": [
    "arr = np.array([[1., 2., 3.], [4., 5., 6.]])\n",
    "print(arr * arr)\n",
    "print(arr + arr)\n",
    "print(arr - arr)"
   ]
  },
  {
   "cell_type": "markdown",
   "id": "13ad8b54-767c-4ced-8233-b3b7e20f68ed",
   "metadata": {},
   "source": [
    "### Indexing e Slicing\n",
    "Manipipulação de array de 1 dimensões são mais tranquilas"
   ]
  },
  {
   "cell_type": "code",
   "execution_count": 17,
   "id": "5b9c2a10-7f7e-4347-8007-50977d56b766",
   "metadata": {},
   "outputs": [
    {
     "data": {
      "text/plain": [
       "array([0, 1, 2, 3, 4, 5, 6, 7, 8, 9])"
      ]
     },
     "execution_count": 17,
     "metadata": {},
     "output_type": "execute_result"
    }
   ],
   "source": [
    "arr = np.arange(10)\n",
    "arr"
   ]
  },
  {
   "cell_type": "code",
   "execution_count": 18,
   "id": "086e5bb6-38f9-4b23-b37c-0df3f199341d",
   "metadata": {},
   "outputs": [
    {
     "data": {
      "text/plain": [
       "np.int64(4)"
      ]
     },
     "execution_count": 18,
     "metadata": {},
     "output_type": "execute_result"
    }
   ],
   "source": [
    "arr[4]"
   ]
  },
  {
   "cell_type": "code",
   "execution_count": 19,
   "id": "412b2419-09e5-4576-b0c6-970cd94a1887",
   "metadata": {},
   "outputs": [
    {
     "data": {
      "text/plain": [
       "array([4, 5, 6, 7])"
      ]
     },
     "execution_count": 19,
     "metadata": {},
     "output_type": "execute_result"
    }
   ],
   "source": [
    "arr[4:8]"
   ]
  },
  {
   "cell_type": "code",
   "execution_count": 20,
   "id": "95a09b7b-6b7a-4f74-b043-df380b3b0369",
   "metadata": {},
   "outputs": [
    {
     "data": {
      "text/plain": [
       "array([  0,   1, 123,   3,   4,   5,   6,   7,   8,   9])"
      ]
     },
     "execution_count": 20,
     "metadata": {},
     "output_type": "execute_result"
    }
   ],
   "source": [
    "arr[2] = 123\n",
    "arr"
   ]
  },
  {
   "cell_type": "markdown",
   "id": "64b8e74a-a08d-4c77-9073-979748f717c9",
   "metadata": {},
   "source": [
    "Obs: as manipulações que são feitas no array são vistas no original, ao contrário das listas nativas do python em que uma cópia é feita"
   ]
  },
  {
   "cell_type": "code",
   "execution_count": 22,
   "id": "45e7f533-77c1-4685-b148-9a1c764c756e",
   "metadata": {},
   "outputs": [
    {
     "data": {
      "text/plain": [
       "array([8, 9])"
      ]
     },
     "execution_count": 22,
     "metadata": {},
     "output_type": "execute_result"
    }
   ],
   "source": [
    "arr_slice = arr[8:10]\n",
    "arr_slice"
   ]
  },
  {
   "cell_type": "code",
   "execution_count": 23,
   "id": "0c4000ba-0e29-43ef-95a1-198208f1fce7",
   "metadata": {},
   "outputs": [
    {
     "data": {
      "text/plain": [
       "array([  0,   1, 123,   3,   4,   5,   6,   7,   8, 789])"
      ]
     },
     "execution_count": 23,
     "metadata": {},
     "output_type": "execute_result"
    }
   ],
   "source": [
    "arr_slice[1] = 789\n",
    "arr"
   ]
  },
  {
   "cell_type": "markdown",
   "id": "3d456779-e03c-4a1c-96d0-963920770aeb",
   "metadata": {},
   "source": [
    "Para realmente fazer uma cópia:\n",
    "arr[8:10].copy()"
   ]
  },
  {
   "cell_type": "markdown",
   "id": "2f24b87e-e2e7-4254-9079-6c69c05d0a5f",
   "metadata": {},
   "source": [
    "### Slicing e Indexing em um array de 2 dimensões"
   ]
  },
  {
   "cell_type": "code",
   "execution_count": 25,
   "id": "fa5cf72f-3d82-492c-9b62-6ff7c9a9d10c",
   "metadata": {},
   "outputs": [
    {
     "data": {
      "text/plain": [
       "array([4, 5, 6])"
      ]
     },
     "execution_count": 25,
     "metadata": {},
     "output_type": "execute_result"
    }
   ],
   "source": [
    "# dessa forma acessamos apenas as linhas\n",
    "arr = np.array([[1, 2, 3], [4, 5, 6]])\n",
    "arr[1]"
   ]
  },
  {
   "cell_type": "code",
   "execution_count": 26,
   "id": "25bbe5d2-bf82-4969-9460-ec224a9149a6",
   "metadata": {},
   "outputs": [
    {
     "data": {
      "text/plain": [
       "np.int64(3)"
      ]
     },
     "execution_count": 26,
     "metadata": {},
     "output_type": "execute_result"
    }
   ],
   "source": [
    "# acessando um único elemento\n",
    "arr[0][2] # ou arr[0, 2] (linha, coluna)"
   ]
  },
  {
   "cell_type": "markdown",
   "id": "72da8ec9-85f8-481f-83a2-618c1fac687a",
   "metadata": {},
   "source": [
    "em arrays multidimensionais, o quão menos específico com o index, mais alta a dimensão "
   ]
  },
  {
   "cell_type": "code",
   "execution_count": 30,
   "id": "160c3077-cc32-49e5-b5ff-117a416b79a2",
   "metadata": {},
   "outputs": [
    {
     "name": "stdout",
     "output_type": "stream",
     "text": [
      "(2, 2, 3)\n"
     ]
    },
    {
     "data": {
      "text/plain": [
       "array([[ 7,  8,  9],\n",
       "       [10, 11, 12]])"
      ]
     },
     "execution_count": 30,
     "metadata": {},
     "output_type": "execute_result"
    }
   ],
   "source": [
    "arr3 = np.array([[[1, 2, 3], [4, 5, 6]], [[7, 8, 9], [10, 11, 12]]])\n",
    "print(arr3.shape)\n",
    "arr3[1]"
   ]
  },
  {
   "cell_type": "markdown",
   "id": "7f4bcd5b-932b-4f1e-b0c3-c92e1232b148",
   "metadata": {},
   "source": [
    "### Slincing\n",
    "funciona da mesma forma do indexing"
   ]
  },
  {
   "cell_type": "code",
   "execution_count": 35,
   "id": "e77b7890-2f7d-4e04-85d0-130aeed26b07",
   "metadata": {},
   "outputs": [
    {
     "data": {
      "text/plain": [
       "array([[1, 2, 3],\n",
       "       [4, 5, 6],\n",
       "       [7, 8, 9]])"
      ]
     },
     "execution_count": 35,
     "metadata": {},
     "output_type": "execute_result"
    }
   ],
   "source": [
    "arr = np.array([[1, 2, 3], [4, 5, 6], [7, 8, 9]])\n",
    "arr"
   ]
  },
  {
   "cell_type": "code",
   "execution_count": 36,
   "id": "bbcc279a-af63-408c-9ab5-ceca80c2a695",
   "metadata": {},
   "outputs": [
    {
     "data": {
      "text/plain": [
       "array([[1, 2, 3],\n",
       "       [4, 5, 6]])"
      ]
     },
     "execution_count": 36,
     "metadata": {},
     "output_type": "execute_result"
    }
   ],
   "source": [
    "arr[:2] #pecorreu as 2 primeiras linhas do array"
   ]
  },
  {
   "cell_type": "code",
   "execution_count": 37,
   "id": "cb3ef20c-67cc-4eb3-b4f2-4ba5d200d3a5",
   "metadata": {},
   "outputs": [
    {
     "data": {
      "text/plain": [
       "array([[2, 3],\n",
       "       [5, 6]])"
      ]
     },
     "execution_count": 37,
     "metadata": {},
     "output_type": "execute_result"
    }
   ],
   "source": [
    "arr[:2, 1:]"
   ]
  },
  {
   "cell_type": "markdown",
   "id": "71ba1922-3b8c-4a01-80b8-68d1194eb7e9",
   "metadata": {},
   "source": [
    "### Indexação booleana"
   ]
  },
  {
   "cell_type": "code",
   "execution_count": 38,
   "id": "24880cf1-f879-497b-97bc-9524dcb693d1",
   "metadata": {},
   "outputs": [
    {
     "data": {
      "text/plain": [
       "array([ True, False, False,  True, False, False, False])"
      ]
     },
     "execution_count": 38,
     "metadata": {},
     "output_type": "execute_result"
    }
   ],
   "source": [
    "nomes = np.array([\"Gui\", \"Joel\", \"Rafa\", \"Gui\", \"Joel\", \"Rafa\", \"Rafa\"])\n",
    "nomes == \"Gui\""
   ]
  },
  {
   "cell_type": "code",
   "execution_count": 39,
   "id": "6963820a-f011-45e2-84cc-a6f2e1e91ca4",
   "metadata": {},
   "outputs": [
    {
     "data": {
      "text/plain": [
       "array([[ -5,   6],\n",
       "       [-12,  -4],\n",
       "       [  3,   4]])"
      ]
     },
     "execution_count": 39,
     "metadata": {},
     "output_type": "execute_result"
    }
   ],
   "source": [
    "data = np.array([[4, 7], [0, 2], [-5, 6], [0, 0], [1, 2], [-12, -4], [3, 4]])\n",
    "data[nomes == \"Rafa\"]"
   ]
  },
  {
   "cell_type": "code",
   "execution_count": null,
   "id": "b65f302b-2c4e-40ff-8b7a-fb673aa14798",
   "metadata": {},
   "outputs": [],
   "source": []
  }
 ],
 "metadata": {
  "kernelspec": {
   "display_name": "Python [conda env:base] *",
   "language": "python",
   "name": "conda-base-py"
  },
  "language_info": {
   "codemirror_mode": {
    "name": "ipython",
    "version": 3
   },
   "file_extension": ".py",
   "mimetype": "text/x-python",
   "name": "python",
   "nbconvert_exporter": "python",
   "pygments_lexer": "ipython3",
   "version": "3.13.5"
  }
 },
 "nbformat": 4,
 "nbformat_minor": 5
}
