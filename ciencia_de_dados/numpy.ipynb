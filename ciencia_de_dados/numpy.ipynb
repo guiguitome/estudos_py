{
 "cells": [
  {
   "cell_type": "code",
   "execution_count": 1,
   "id": "dbb0cc65-dcbf-4f8a-ab43-bad773129f4d",
   "metadata": {},
   "outputs": [
    {
     "data": {
      "text/plain": [
       "array([1, 2, 3])"
      ]
     },
     "execution_count": 1,
     "metadata": {},
     "output_type": "execute_result"
    }
   ],
   "source": [
    "import numpy as np\n",
    "\n",
    "data = np.array([1,2,3])\n",
    "data"
   ]
  },
  {
   "cell_type": "code",
   "execution_count": 6,
   "id": "d216c44c-6021-4760-8b08-c96dba2e9693",
   "metadata": {},
   "outputs": [
    {
     "data": {
      "text/plain": [
       "array([[ 2,  4,  6],\n",
       "       [ 8, 10, 12]])"
      ]
     },
     "execution_count": 6,
     "metadata": {},
     "output_type": "execute_result"
    }
   ],
   "source": [
    "# é tranquilo com numpy fazer operações de arrays\n",
    "dt = np.array([[1,2,3], [4,5,6]])\n",
    "dt + dt"
   ]
  },
  {
   "cell_type": "code",
   "execution_count": 7,
   "id": "8424598a-38b8-4011-9593-6e21fa13c374",
   "metadata": {},
   "outputs": [
    {
     "data": {
      "text/plain": [
       "array([[10, 20, 30],\n",
       "       [40, 50, 60]])"
      ]
     },
     "execution_count": 7,
     "metadata": {},
     "output_type": "execute_result"
    }
   ],
   "source": [
    "dt * 10"
   ]
  },
  {
   "cell_type": "code",
   "execution_count": 14,
   "id": "83ae18b9-6a46-4b9e-a733-851c1dd1d31d",
   "metadata": {},
   "outputs": [
    {
     "name": "stdout",
     "output_type": "stream",
     "text": [
      "(2, 3) int64\n"
     ]
    }
   ],
   "source": [
    "# os ndarrays são homegeneo, ou seja, só aceitam um tipo de dado\n",
    "print(dt.shape, dt.dtype)"
   ]
  },
  {
   "cell_type": "code",
   "execution_count": 15,
   "id": "ed2c8c36-20e0-41a2-ab40-a90c801fee8d",
   "metadata": {},
   "outputs": [
    {
     "data": {
      "text/plain": [
       "array([1, 2, 3, 4])"
      ]
     },
     "execution_count": 15,
     "metadata": {},
     "output_type": "execute_result"
    }
   ],
   "source": [
    "# criando array:\n",
    "data1 = [1, 2, 3, 4]\n",
    "arr1 = np.array(data1)\n",
    "arr1"
   ]
  },
  {
   "cell_type": "code",
   "execution_count": 16,
   "id": "c0a7fbdf-b15a-447b-82e4-fbfa13cc162f",
   "metadata": {},
   "outputs": [
    {
     "data": {
      "text/plain": [
       "array([[ 5,  6,  7,  8],\n",
       "       [ 9, 10, 11, 12]])"
      ]
     },
     "execution_count": 16,
     "metadata": {},
     "output_type": "execute_result"
    }
   ],
   "source": [
    "# criando array multidimensional\n",
    "# sempre como se fosse listas aninhadas\n",
    "data2 = [[5,6,7,8], [9,10,11,12]]\n",
    "arr2 = np.array(data2)\n",
    "arr2"
   ]
  },
  {
   "cell_type": "code",
   "execution_count": 17,
   "id": "6d5de916-0f5e-4d9e-a037-c619f16ed197",
   "metadata": {},
   "outputs": [
    {
     "data": {
      "text/plain": [
       "2"
      ]
     },
     "execution_count": 17,
     "metadata": {},
     "output_type": "execute_result"
    }
   ],
   "source": [
    "# mostrando quantas dimensões tem o array2\n",
    "arr2.ndim"
   ]
  },
  {
   "cell_type": "code",
   "execution_count": 18,
   "id": "0107c4ce-ab32-4da4-ae5f-12b252a5f4d0",
   "metadata": {},
   "outputs": [
    {
     "data": {
      "text/plain": [
       "(2, 4)"
      ]
     },
     "execution_count": 18,
     "metadata": {},
     "output_type": "execute_result"
    }
   ],
   "source": [
    "# mostrando o seu formato\n",
    "arr2.shape"
   ]
  },
  {
   "cell_type": "code",
   "execution_count": 21,
   "id": "72fbe48a-6d6a-47a5-aaad-96f665613845",
   "metadata": {},
   "outputs": [
    {
     "name": "stdout",
     "output_type": "stream",
     "text": [
      "[0. 0. 0. 0. 0. 0. 0. 0. 0. 0.]\n",
      "[[1. 1. 1. 1. 1.]\n",
      " [1. 1. 1. 1. 1.]\n",
      " [1. 1. 1. 1. 1.]\n",
      " [1. 1. 1. 1. 1.]]\n",
      "[[[1.07622217e-311 1.07622217e-311 1.07622217e-311 1.07622217e-311]\n",
      "  [1.07622217e-311 1.07622217e-311 1.07622217e-311 1.07622217e-311]\n",
      "  [1.07622217e-311 1.07622217e-311 1.07622217e-311 1.07622217e-311]]\n",
      "\n",
      " [[1.07622217e-311 1.07622217e-311 1.07622217e-311 1.07622217e-311]\n",
      "  [1.07622217e-311 1.07622217e-311 1.07622217e-311 1.07622217e-311]\n",
      "  [1.07622217e-311 1.07622217e-311 1.07622217e-311 1.07622217e-311]]]\n"
     ]
    }
   ],
   "source": [
    "# funções interessantes como ones, zeros e empty\n",
    "zero = np.zeros(10) #cria uma array de 10 elementos (0)\n",
    "print(zero)\n",
    "\n",
    "um = np.ones((4,5)) #criando uma matriz 4x5 de 1s. quando queremos passar um formato específico, escrevemos em uma tupla (linha,coluna)\n",
    "print(um)\n",
    "\n",
    "emp = np.empty((2,3,4)) #criando uma matriz de 3 dimensões vazia\n",
    "print(emp)"
   ]
  },
  {
   "cell_type": "code",
   "execution_count": 28,
   "id": "947fee88-0e1b-4f8b-803f-71493a57066e",
   "metadata": {},
   "outputs": [
    {
     "data": {
      "text/plain": [
       "array(1)"
      ]
     },
     "execution_count": 28,
     "metadata": {},
     "output_type": "execute_result"
    }
   ],
   "source": [
    "np.asarray(1)\n"
   ]
  },
  {
   "cell_type": "code",
   "execution_count": 31,
   "id": "c3628e69-69c9-4164-b9d1-0cde63876303",
   "metadata": {},
   "outputs": [
    {
     "data": {
      "text/plain": [
       "array([ 0,  1,  2,  3,  4,  5,  6,  7,  8,  9, 10, 11, 12])"
      ]
     },
     "execution_count": 31,
     "metadata": {},
     "output_type": "execute_result"
    }
   ],
   "source": [
    "# array com sequencia\n",
    "arr = np.arange(13)\n",
    "arr"
   ]
  },
  {
   "cell_type": "code",
   "execution_count": 36,
   "id": "433e9156-dde4-4c9e-a4c1-3fc3318e41ab",
   "metadata": {},
   "outputs": [
    {
     "name": "stdout",
     "output_type": "stream",
     "text": [
      "[[1. 0. 0. 0. 0.]\n",
      " [0. 1. 0. 0. 0.]\n",
      " [0. 0. 1. 0. 0.]\n",
      " [0. 0. 0. 1. 0.]\n",
      " [0. 0. 0. 0. 1.]]\n",
      "[[1. 0. 0. 0. 0.]\n",
      " [0. 1. 0. 0. 0.]\n",
      " [0. 0. 1. 0. 0.]\n",
      " [0. 0. 0. 1. 0.]\n",
      " [0. 0. 0. 0. 1.]]\n"
     ]
    }
   ],
   "source": [
    "#criar uma matriz identidade com 1 na diagonal e o resto é 0\n",
    "print(np.eye(5))\n",
    "print(np.identity(5))"
   ]
  },
  {
   "cell_type": "code",
   "execution_count": 39,
   "id": "dd5cc10a-979a-457d-89be-0bd5a9755f12",
   "metadata": {},
   "outputs": [
    {
     "name": "stdout",
     "output_type": "stream",
     "text": [
      "[1 2 3 4 5]\n",
      "int64\n",
      "[1. 2. 3. 4. 5.]\n",
      "float64\n"
     ]
    }
   ],
   "source": [
    "# pode converter o tipo de dado de um ndarray\n",
    "dt = np.array([1, 2, 3, 4, 5])\n",
    "print(dt)\n",
    "print(dt.dtype)\n",
    "\n",
    "float_dt = dt.astype(np.float64)\n",
    "print(float_dt)\n",
    "print(float_dt.dtype)"
   ]
  },
  {
   "cell_type": "code",
   "execution_count": null,
   "id": "6ffa7aeb-2d69-471d-860b-a289b534cd94",
   "metadata": {},
   "outputs": [],
   "source": []
  }
 ],
 "metadata": {
  "kernelspec": {
   "display_name": "Python [conda env:base] *",
   "language": "python",
   "name": "conda-base-py"
  },
  "language_info": {
   "codemirror_mode": {
    "name": "ipython",
    "version": 3
   },
   "file_extension": ".py",
   "mimetype": "text/x-python",
   "name": "python",
   "nbconvert_exporter": "python",
   "pygments_lexer": "ipython3",
   "version": "3.13.5"
  }
 },
 "nbformat": 4,
 "nbformat_minor": 5
}
