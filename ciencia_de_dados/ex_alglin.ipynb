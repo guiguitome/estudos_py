{
 "cells": [
  {
   "cell_type": "code",
   "execution_count": 1,
   "id": "3e8af263-1129-40ad-9b1a-c52a157b357d",
   "metadata": {},
   "outputs": [],
   "source": [
    "import numpy as np"
   ]
  },
  {
   "cell_type": "markdown",
   "id": "4c58a5fb-a569-4886-8e79-dd8bd2e2f1e0",
   "metadata": {},
   "source": [
    "1. Criação e Propriedades de Matrizes\n",
    "Crie a seguinte matriz 2x3 no NumPy:\n",
    "\n",
    "A=( \n",
    "1\n",
    "4\n",
    "​\n",
    "  \n",
    "2\n",
    "5\n",
    "​\n",
    "  \n",
    "3\n",
    "6\n",
    "​\n",
    " )\n",
    "Sua tarefa:\n",
    "\n",
    "Imprima a \"forma\" (shape) da matriz.\n",
    "\n",
    "Calcule e imprima a matriz transposta de A.\n",
    "\n",
    "Acesse e imprima o elemento na segunda linha e terceira coluna (o número 6)."
   ]
  },
  {
   "cell_type": "code",
   "execution_count": 8,
   "id": "f88bea87-dc48-483f-b298-9bef7269a88b",
   "metadata": {},
   "outputs": [
    {
     "data": {
      "text/plain": [
       "array([[1, 2, 3],\n",
       "       [4, 5, 6]])"
      ]
     },
     "execution_count": 8,
     "metadata": {},
     "output_type": "execute_result"
    }
   ],
   "source": [
    "A = np.array([[1, 2, 3], [4, 5, 6]])\n",
    "A"
   ]
  },
  {
   "cell_type": "code",
   "execution_count": 12,
   "id": "0d12a68e-32f5-40a7-a16a-5fdb0d494e95",
   "metadata": {},
   "outputs": [
    {
     "name": "stdout",
     "output_type": "stream",
     "text": [
      "formato de A: (2, 3)\n",
      "transposta de A:\n",
      " [[1 4]\n",
      " [2 5]\n",
      " [3 6]]\n",
      "elemento na seunda linha e terceira coluna: 6\n"
     ]
    }
   ],
   "source": [
    "print(f\"formato de A: {A.shape}\")\n",
    "print(f\"transposta de A:\\n {A.T}\")\n",
    "print(f\"elemento na seunda linha e terceira coluna: {A[1, 2]}\")"
   ]
  },
  {
   "cell_type": "markdown",
   "id": "4db37e26-963b-4259-ba08-2bc669244e53",
   "metadata": {},
   "source": [
    "2. Multiplicação de Matrizes\n",
    "Dadas as matrizes:\n",
    "\n",
    "M1=( \n",
    "1\n",
    "3\n",
    "​\n",
    "  \n",
    "2\n",
    "4\n",
    "​\n",
    " )eM2=( \n",
    "5\n",
    "7\n",
    "​\n",
    "  \n",
    "6\n",
    "8\n",
    "​\n",
    " )\n",
    "Sua tarefa:\n",
    "\n",
    "Calcule o produto matricial M1⋅M2.\n",
    "\n",
    "Calcule o produto matricial M2⋅M1.\n",
    "\n",
    "Verifique se os resultados são iguais (a multiplicação de matrizes é comutativa?)."
   ]
  },
  {
   "cell_type": "code",
   "execution_count": 14,
   "id": "b57cf27d-4cac-4005-af3d-2843e3109972",
   "metadata": {},
   "outputs": [
    {
     "name": "stdout",
     "output_type": "stream",
     "text": [
      "produto matricial M1 . M2:\n",
      " [[19 22]\n",
      " [43 50]]\n",
      "produto matricial M2 . M2:\n",
      " [[23 34]\n",
      " [31 46]]\n",
      "Não são comutativas!!!\n"
     ]
    }
   ],
   "source": [
    "M1 = np.array([[1, 2], [3, 4]])\n",
    "M2 = np.array([[5, 6], [7, 8]])\n",
    "print(f\"produto matricial M1 . M2:\\n {M1 @ M2}\")\n",
    "print(f\"produto matricial M2 . M2:\\n {np.dot(M2, M1)}\")\n",
    "print(\"Não são comutativas!!!\")"
   ]
  },
  {
   "cell_type": "markdown",
   "id": "0a3df261-2cd9-4a24-97ea-0f62e2321cd0",
   "metadata": {},
   "source": [
    "3.  Determinante e Matriz Inversa\n",
    "Dada a matriz:\n",
    "\n",
    "B=( \n",
    "4\n",
    "2\n",
    "​\n",
    "  \n",
    "7\n",
    "6\n",
    "​\n",
    " )\n",
    "Sua tarefa:\n",
    "\n",
    "Calcule o determinante da matriz B.\n",
    "\n",
    "Se o determinante for diferente de zero, calcule a matriz inversa de B.\n",
    "\n",
    "Multiplique B por sua inversa. Qual é o resultado esperado? (Dica: Matriz Identidade)"
   ]
  },
  {
   "cell_type": "code",
   "execution_count": 16,
   "id": "76f6ce53-f9c3-401e-a4a9-e562d827479f",
   "metadata": {},
   "outputs": [
    {
     "data": {
      "text/plain": [
       "array([[4, 7],\n",
       "       [2, 6]])"
      ]
     },
     "execution_count": 16,
     "metadata": {},
     "output_type": "execute_result"
    }
   ],
   "source": [
    "B = np.array([[4, 7], [2, 6]])\n",
    "B"
   ]
  },
  {
   "cell_type": "code",
   "execution_count": 23,
   "id": "babfb527-0f4d-4b40-8fca-bfc9a18f9ef3",
   "metadata": {},
   "outputs": [
    {
     "name": "stdout",
     "output_type": "stream",
     "text": [
      "Determinante de B: 10.00\n",
      "matriz inversa de B:\n",
      " [[ 0.6 -0.7]\n",
      " [-0.2  0.4]]\n"
     ]
    }
   ],
   "source": [
    "print(f'Determinante de B: {np.linalg.det(B):.2f}')\n",
    "B_inv = np.linalg.inv(B)\n",
    "print(f'matriz inversa de B:\\n {B_inv}')"
   ]
  },
  {
   "cell_type": "code",
   "execution_count": 25,
   "id": "a2cad693-c2db-4939-b35a-84f0217303d1",
   "metadata": {},
   "outputs": [
    {
     "data": {
      "text/plain": [
       "array([[ 1.00000000e+00,  0.00000000e+00],\n",
       "       [-2.22044605e-16,  1.00000000e+00]])"
      ]
     },
     "execution_count": 25,
     "metadata": {},
     "output_type": "execute_result"
    }
   ],
   "source": [
    "B @ B_inv"
   ]
  },
  {
   "cell_type": "markdown",
   "id": "47e8e077-dbae-4b19-bcd2-cd316f64f80c",
   "metadata": {},
   "source": [
    "5. Problemas Práticos\n",
    "Exercício 5: Resolvendo um Sistema de Equações Lineares\n",
    "Imagine que você foi ao mercado. A conta deu o seguinte:\n",
    "\n",
    "2 maçãs e 3 laranjas custaram R$ 8,00.\n",
    "\n",
    "4 maçãs e 1 laranja custaram R$ 9,00.\n",
    "\n",
    "Queremos descobrir o preço de uma maçã (x) e de uma laranja (y). O sistema de equações é:"
   ]
  },
  {
   "cell_type": "code",
   "execution_count": 26,
   "id": "9b85d22c-46ed-4ac7-a02e-9d3feda5f1bb",
   "metadata": {},
   "outputs": [
    {
     "data": {
      "text/plain": [
       "array([1.3, 1.8])"
      ]
     },
     "execution_count": 26,
     "metadata": {},
     "output_type": "execute_result"
    }
   ],
   "source": [
    "# matriz de coeficientes\n",
    "A = np.array([[2, 3], [4, 1]])\n",
    "\n",
    "# matriz de resultados\n",
    "B = np.array([8, 7])\n",
    "precos = np.linalg.solve(A, B)\n",
    "precos"
   ]
  },
  {
   "cell_type": "code",
   "execution_count": 30,
   "id": "d900b480-146b-44c6-9147-99a6968a0881",
   "metadata": {},
   "outputs": [
    {
     "name": "stdout",
     "output_type": "stream",
     "text": [
      "Preço maçã: 1.3\n",
      "preço banana: 1.8\n"
     ]
    }
   ],
   "source": [
    "print(f\"Preço maçã: {precos[0]}\")\n",
    "print(f'preço banana: {precos[1]}')"
   ]
  },
  {
   "cell_type": "code",
   "execution_count": null,
   "id": "202761b8-d42e-445c-86ba-783bf6c37873",
   "metadata": {},
   "outputs": [],
   "source": []
  }
 ],
 "metadata": {
  "kernelspec": {
   "display_name": "Python [conda env:base] *",
   "language": "python",
   "name": "conda-base-py"
  },
  "language_info": {
   "codemirror_mode": {
    "name": "ipython",
    "version": 3
   },
   "file_extension": ".py",
   "mimetype": "text/x-python",
   "name": "python",
   "nbconvert_exporter": "python",
   "pygments_lexer": "ipython3",
   "version": "3.13.5"
  }
 },
 "nbformat": 4,
 "nbformat_minor": 5
}
