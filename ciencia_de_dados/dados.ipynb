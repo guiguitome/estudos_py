{
 "cells": [
  {
   "cell_type": "markdown",
   "id": "f4078a72-75ab-472e-a318-883e8c0dc31f",
   "metadata": {},
   "source": [
    "# Simulador de lançamento de dados"
   ]
  },
  {
   "cell_type": "code",
   "execution_count": 54,
   "id": "519184c6-e751-4217-bb3b-29c1e55d5d7a",
   "metadata": {},
   "outputs": [],
   "source": [
    "# importanto o numpy\n",
    "import numpy as np"
   ]
  },
  {
   "cell_type": "code",
   "execution_count": 55,
   "id": "dfbe3eb4-aa00-4901-8ebd-6c1d34a46601",
   "metadata": {},
   "outputs": [],
   "source": [
    "# gerando os lançamentos\n",
    "rng = np.random.default_rng()\n",
    "lancamentos = rng.integers(low=1, high=6, size=10000, endpoint=True)"
   ]
  },
  {
   "cell_type": "code",
   "execution_count": 56,
   "id": "90453deb-24d2-46e1-ae62-3ddf41fce6c7",
   "metadata": {},
   "outputs": [
    {
     "name": "stdout",
     "output_type": "stream",
     "text": [
      "vezes que caiu a face 1: 1624\n",
      "vezes que caiu a face 2: 1704\n",
      "vezes que caiu a face 3: 1643\n",
      "vezes que caiu a face 4: 1667\n",
      "vezes que caiu a face 5: 1666\n",
      "vezes que caiu a face 6: 1696\n"
     ]
    }
   ],
   "source": [
    "# contando a quantidade de vezes que cada face caiu\n",
    "qtd = np.bincount(lancamentos)\n",
    "for face in range(1, 7):\n",
    "    print(f'vezes que caiu a face {face}: {qtd[face]}')"
   ]
  },
  {
   "cell_type": "code",
   "execution_count": 57,
   "id": "b7fd8f56-7881-4a73-bf16-614a163df6d5",
   "metadata": {},
   "outputs": [
    {
     "name": "stdout",
     "output_type": "stream",
     "text": [
      "probabilidade teórica de cada face (1/6): 0.17\n",
      "probilidade da face 1: 0.16\n",
      "probilidade da face 2: 0.17\n",
      "probilidade da face 3: 0.16\n",
      "probilidade da face 4: 0.17\n",
      "probilidade da face 5: 0.17\n",
      "probilidade da face 6: 0.17\n"
     ]
    }
   ],
   "source": [
    "print(f'probabilidade teórica de cada face (1/6): {1/6:.2f}')\n",
    "for face in range(1, 7):\n",
    "    print(f'probilidade da face {face}: {qtd[face]/len(lancamentos):.2f}')"
   ]
  },
  {
   "cell_type": "code",
   "execution_count": 58,
   "id": "be45b28b-8a58-4716-8728-1f68f693cae9",
   "metadata": {},
   "outputs": [
    {
     "name": "stdout",
     "output_type": "stream",
     "text": [
      "média teórica: 3.5\n",
      "média real: 3.5\n",
      "Variância teórica: 2.916\n",
      "Variância real: 2.92\n"
     ]
    }
   ],
   "source": [
    "print(f'média teórica: 3.5')\n",
    "print(f'média real: {lancamentos.mean():.1f}')\n",
    "print('Variância teórica: 2.916')\n",
    "print(f'Variância real: {lancamentos.var():.2f}')"
   ]
  }
 ],
 "metadata": {
  "kernelspec": {
   "display_name": "Python [conda env:base] *",
   "language": "python",
   "name": "conda-base-py"
  },
  "language_info": {
   "codemirror_mode": {
    "name": "ipython",
    "version": 3
   },
   "file_extension": ".py",
   "mimetype": "text/x-python",
   "name": "python",
   "nbconvert_exporter": "python",
   "pygments_lexer": "ipython3",
   "version": "3.13.5"
  }
 },
 "nbformat": 4,
 "nbformat_minor": 5
}
