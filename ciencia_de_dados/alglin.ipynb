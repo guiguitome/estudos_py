{
 "cells": [
  {
   "cell_type": "code",
   "execution_count": 1,
   "id": "143f2cad-d283-4dc2-bc42-0f7224254046",
   "metadata": {},
   "outputs": [],
   "source": [
    "import numpy as np"
   ]
  },
  {
   "cell_type": "markdown",
   "id": "fc9b31d5-5160-4de1-a702-ca63337f9fb4",
   "metadata": {},
   "source": [
    "# Algebra linear no NP\n",
    "## multiplicação matricial / produto escalar\n",
    "> np.dot(array1, array2)\n",
    "- quando as 2 arrays são de 1D, ele retorna o produto escalar\n",
    "- quando uma delas é pelo menos de 2D, ele retorna a multiplicação matricial"
   ]
  },
  {
   "cell_type": "code",
   "execution_count": 9,
   "id": "c8f5cd8e-e40e-406d-bc10-0531b2e5e2eb",
   "metadata": {},
   "outputs": [
    {
     "name": "stdout",
     "output_type": "stream",
     "text": [
      "(2, 3)\n",
      "(3, 3)\n",
      "multiplicação matricial:\n",
      "[[ 66  72  78]\n",
      " [156 171 186]]\n"
     ]
    }
   ],
   "source": [
    "X = np.array([[1, 2, 3], [4, 5, 6]])\n",
    "Y = np.array([[7, 8, 9], [10, 11, 12], [13, 14, 15]])\n",
    "print(X.shape)\n",
    "print(Y.shape)\n",
    "print(\"multiplicação matricial:\")\n",
    "print(np.dot(X, Y))"
   ]
  },
  {
   "cell_type": "code",
   "execution_count": 6,
   "id": "7606e0f6-69f3-42d2-bd80-72ceb54d22b5",
   "metadata": {},
   "outputs": [
    {
     "name": "stdout",
     "output_type": "stream",
     "text": [
      "produto escalar: 32\n"
     ]
    }
   ],
   "source": [
    "X = np.array([1, 2, 3])\n",
    "Y = np.array([4, 5, 6])\n",
    "print(f\"produto escalar: {np.dot(X, Y)}\")"
   ]
  },
  {
   "cell_type": "markdown",
   "id": "374386ca-1190-417e-8ebd-24f7821f813f",
   "metadata": {},
   "source": [
    "> OBS: @ e np.matmul tambem faz mult matricial"
   ]
  },
  {
   "cell_type": "code",
   "execution_count": 13,
   "id": "8b010757-ddf4-4911-afa2-a023f09af983",
   "metadata": {},
   "outputs": [
    {
     "name": "stdout",
     "output_type": "stream",
     "text": [
      "[[ 66  72  78]\n",
      " [156 171 186]]\n",
      "[[ 66  72  78]\n",
      " [156 171 186]]\n"
     ]
    }
   ],
   "source": [
    "X = np.array([[1, 2, 3], [4, 5, 6]])\n",
    "Y = np.array([[7, 8, 9], [10, 11, 12], [13, 14, 15]])\n",
    "print(X @ Y)\n",
    "print(np.matmul(X, Y))"
   ]
  },
  {
   "cell_type": "markdown",
   "id": "b9db673c-9072-4351-9202-8c58c5e6f6ae",
   "metadata": {},
   "source": [
    "## transposta\n",
    "> array.T\n",
    "- troca linhas por colunas"
   ]
  },
  {
   "cell_type": "code",
   "execution_count": 17,
   "id": "9a93724d-8f23-437d-8e3e-6ff24368ca71",
   "metadata": {},
   "outputs": [
    {
     "name": "stdout",
     "output_type": "stream",
     "text": [
      "[[1 2 3]\n",
      " [4 5 6]]\n",
      "[[1 4]\n",
      " [2 5]\n",
      " [3 6]]\n"
     ]
    }
   ],
   "source": [
    "print(X)\n",
    "print(X.T)"
   ]
  },
  {
   "cell_type": "markdown",
   "id": "76f2caa6-e3c3-41f4-a7b8-4ea884710615",
   "metadata": {},
   "source": [
    "## determinante\n",
    "> np.linalg.det()"
   ]
  },
  {
   "cell_type": "code",
   "execution_count": 31,
   "id": "a0987614-a008-4df6-97c8-588192a0853c",
   "metadata": {},
   "outputs": [
    {
     "name": "stdout",
     "output_type": "stream",
     "text": [
      "[[ 8  6 19  6  8]\n",
      " [14 10 13  1 15]\n",
      " [15  8 16  7 11]\n",
      " [ 6  5 18  3 10]\n",
      " [ 7  8 13  1  9]]\n",
      "211.99999999999866\n"
     ]
    }
   ],
   "source": [
    "rng = np.random.default_rng()\n",
    "A = rng.integers(low=1, high=20, size=(5, 5), endpoint=True)\n",
    "print(A)\n",
    "print(np.linalg.det(A))"
   ]
  },
  {
   "cell_type": "markdown",
   "id": "40c766c4-f082-4b8c-aabf-f41ba4de23eb",
   "metadata": {},
   "source": [
    "## Inversa\n",
    "> np.linalg.inv()"
   ]
  },
  {
   "cell_type": "code",
   "execution_count": 34,
   "id": "39875274-a3c3-4bcb-ba75-d3bccc1d03f4",
   "metadata": {},
   "outputs": [
    {
     "name": "stdout",
     "output_type": "stream",
     "text": [
      "[[ 10.0754717    6.35849057  -6.41509434  -5.39622642  -5.71698113]\n",
      " [ -5.58962264  -3.61320755   3.61792453   2.78301887   3.47641509]\n",
      " [  5.86792453   3.62264151  -3.77358491  -3.05660377  -3.24528302]\n",
      " [-13.07075472  -8.27358491   8.51415094   6.93396226   7.29716981]\n",
      " [ -9.89150943  -6.04716981   6.27830189   5.36792453   5.34433962]]\n",
      "[[ 1.00000000e+00 -7.10542736e-15  0.00000000e+00  0.00000000e+00\n",
      "  -7.10542736e-15]\n",
      " [ 1.24344979e-14  1.00000000e+00 -1.50990331e-14  8.88178420e-15\n",
      "  -2.66453526e-15]\n",
      " [ 1.95399252e-14 -2.66453526e-15  1.00000000e+00  8.88178420e-15\n",
      "  -1.33226763e-14]\n",
      " [ 1.77635684e-14 -8.88178420e-15  8.88178420e-15  1.00000000e+00\n",
      "   5.32907052e-15]\n",
      " [ 1.77635684e-15 -8.88178420e-16 -6.21724894e-15 -1.77635684e-15\n",
      "   1.00000000e+00]]\n"
     ]
    }
   ],
   "source": [
    "A_inv = np.linalg.inv(A)\n",
    "print(A_inv)\n",
    "## testando a matriz identidade\n",
    "print(A @ A_inv)"
   ]
  },
  {
   "cell_type": "markdown",
   "id": "bac82aae-e135-462b-8695-8a785272c028",
   "metadata": {},
   "source": []
  },
  {
   "cell_type": "markdown",
   "id": "c3c90096-b66e-4a5e-a8ad-75a86758afcf",
   "metadata": {},
   "source": [
    "## Autovalores e autovetores\n",
    "> np.linalg.eig(A)\n",
    "- autovetor -> direção que não muda mesmo quando a matriz age\n",
    "- autovalor -> o quão essa direção aumenta ou diminui"
   ]
  },
  {
   "cell_type": "code",
   "execution_count": 36,
   "id": "c83c9da7-1c0b-4059-96d8-3f900ed9e8ca",
   "metadata": {},
   "outputs": [
    {
     "data": {
      "text/plain": [
       "array([48.8003363 ,  5.20430913, -5.88934351,  0.06500771, -2.18030965])"
      ]
     },
     "execution_count": 36,
     "metadata": {},
     "output_type": "execute_result"
    }
   ],
   "source": [
    "autovalores, autovetores = np.linalg.eig(A)\n",
    "autovalores"
   ]
  },
  {
   "cell_type": "code",
   "execution_count": 37,
   "id": "65d02a28-963b-4864-b791-2e804f2249ea",
   "metadata": {},
   "outputs": [
    {
     "data": {
      "text/plain": [
       "array([[-0.44589761,  0.43550257, -0.40431186,  0.48701916,  0.33076737],\n",
       "       [-0.48646811, -0.69080909,  0.36469145, -0.26855067, -0.71588445],\n",
       "       [-0.52754055,  0.31998399,  0.51847273,  0.27827641,  0.15367409],\n",
       "       [-0.39712362,  0.10080234, -0.5043496 , -0.62151359, -0.56837479],\n",
       "       [-0.35849393, -0.46964822, -0.42467585, -0.47641995,  0.17730418]])"
      ]
     },
     "execution_count": 37,
     "metadata": {},
     "output_type": "execute_result"
    }
   ],
   "source": [
    "autovetores"
   ]
  },
  {
   "cell_type": "markdown",
   "id": "a99bb8f7-84f3-4106-b3cb-9de958f1a1be",
   "metadata": {},
   "source": [
    "## Norma\n",
    "> np.linalg.norm(array, ord=num_da_norma)\n",
    "- mede o tamanho o comprimento de um vetor\n",
    "- o paramentro \"ord\" dita qual norma será usada pra medir\n",
    "  - exemplo: ord=1 é norma de Manhattan, ord=2 é norma Euclidiana (mais usado)"
   ]
  },
  {
   "cell_type": "code",
   "execution_count": 40,
   "id": "eb79b53f-e7ab-4d4c-b4b8-22eecff305d6",
   "metadata": {},
   "outputs": [
    {
     "data": {
      "text/plain": [
       "array([[5, 6],\n",
       "       [3, 3]])"
      ]
     },
     "execution_count": 40,
     "metadata": {},
     "output_type": "execute_result"
    }
   ],
   "source": [
    "B = rng.integers(low=1, high=11, size=(2, 2))\n",
    "B"
   ]
  },
  {
   "cell_type": "code",
   "execution_count": 41,
   "id": "3e337330-9a4f-433d-9612-9bb6b9d0fa45",
   "metadata": {},
   "outputs": [
    {
     "name": "stdout",
     "output_type": "stream",
     "text": [
      "distância euclidiana do vetor B: 8.88177410130521\n"
     ]
    }
   ],
   "source": [
    "B_norma = np.linalg.norm(B, ord=2)\n",
    "print(f'distância euclidiana do vetor B: {B_norma}')"
   ]
  },
  {
   "cell_type": "code",
   "execution_count": null,
   "id": "8b6ae2eb-0cff-4cc4-a7f3-7f75be66d2ed",
   "metadata": {},
   "outputs": [],
   "source": []
  }
 ],
 "metadata": {
  "kernelspec": {
   "display_name": "Python [conda env:base] *",
   "language": "python",
   "name": "conda-base-py"
  },
  "language_info": {
   "codemirror_mode": {
    "name": "ipython",
    "version": 3
   },
   "file_extension": ".py",
   "mimetype": "text/x-python",
   "name": "python",
   "nbconvert_exporter": "python",
   "pygments_lexer": "ipython3",
   "version": "3.13.5"
  }
 },
 "nbformat": 4,
 "nbformat_minor": 5
}
